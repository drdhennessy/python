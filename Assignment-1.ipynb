{
 "cells": [
  {
   "cell_type": "code",
   "execution_count": 1,
   "metadata": {},
   "outputs": [
    {
     "name": "stdout",
     "output_type": "stream",
     "text": [
      "True\n",
      "False\n",
      "True\n"
     ]
    }
   ],
   "source": [
    "# Part 1: Building the Base Anagram Checker\n",
    "\n",
    "# Given two valid strings, check to see if they are anagrams of each \n",
    "# other. If it is, return True, else False. For this part, we can \n",
    "# assume that uppercase letters are the same as if it was a lowercase\n",
    "# character.\n",
    "\n",
    "def anagram_checker(word_a: str, word_b: str) -> bool:\n",
    "    # Convert both words to lowercase to ignore case sensitivity\n",
    "    word_a = word_a.lower()\n",
    "    word_b = word_b.lower()\n",
    "\n",
    "    # Sort the characters of both words\n",
    "    word_a_normalized = sorted(word_a)\n",
    "    word_b_normalized = sorted(word_b)\n",
    "\n",
    "    # Compare the normalized strings\n",
    "    return word_a_normalized == word_b_normalized\n",
    "\n",
    "# Example usage:\n",
    "print(anagram_checker(\"Silent\", \"listen\"))  # True\n",
    "print(anagram_checker(\"Silent\", \"Night\"))   # False\n",
    "print(anagram_checker(\"night\", \"Thing\"))    # True\n"
   ]
  },
  {
   "cell_type": "code",
   "execution_count": 2,
   "metadata": {},
   "outputs": [
    {
     "name": "stdout",
     "output_type": "stream",
     "text": [
      "True\n",
      "False\n"
     ]
    }
   ],
   "source": [
    "# Part 2: Expanding the functionality of the Anagram Checker\n",
    "\n",
    "# Using your existing and functional anagram checker, let's add a \n",
    "# boolean option called is_case_sensitive, which will return True \n",
    "# or False based on if the two compared words are anagrams and if \n",
    "# we are checking for case sensitivity.\n",
    "\n",
    "def anagram_checker(word_a: str, word_b: str, is_case_sensitive: bool) -> bool:\n",
    "    # If not case sensitive, convert both words to lowercase:\n",
    "    if not is_case_sensitive:\n",
    "        word_a = word_a.lower()\n",
    "        word_b = word_b.lower()\n",
    "\n",
    "    # Sort the characters of both words:\n",
    "    word_a_normalized = sorted(word_a)\n",
    "    word_b_normalized = sorted(word_b)\n",
    "\n",
    "    # Compare the normalized strings:\n",
    "    return word_a_normalized == word_b_normalized\n",
    "\n",
    "# Example usage:\n",
    "print(anagram_checker(\"Silent\", \"listen\", False))  # True\n",
    "print(anagram_checker(\"Silent\", \"Listen\", True))   # False"
   ]
  }
 ],
 "metadata": {
  "kernelspec": {
   "display_name": "dsi_participant",
   "language": "python",
   "name": "python3"
  },
  "language_info": {
   "codemirror_mode": {
    "name": "ipython",
    "version": 3
   },
   "file_extension": ".py",
   "mimetype": "text/x-python",
   "name": "python",
   "nbconvert_exporter": "python",
   "pygments_lexer": "ipython3",
   "version": "3.9.15"
  }
 },
 "nbformat": 4,
 "nbformat_minor": 2
}
